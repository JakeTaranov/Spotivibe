{
 "cells": [
  {
   "cell_type": "code",
   "execution_count": 113,
   "metadata": {},
   "outputs": [],
   "source": [
    "import numpy as np\n",
    "import pandas as pd"
   ]
  },
  {
   "cell_type": "code",
   "execution_count": 120,
   "metadata": {},
   "outputs": [],
   "source": [
    "song = open('../data/hey_there_delilah.txt')"
   ]
  },
  {
   "cell_type": "code",
   "execution_count": 121,
   "metadata": {},
   "outputs": [
    {
     "name": "stdout",
     "output_type": "stream",
     "text": [
      "Hey there, Delilah What's it like in New York city? I'm a thousand miles away But, girl, tonight you look so pretty Yes, you do Time square can't shine as bright as you I swear, it's true Don't you worry about the distance I'm right there if you get lonely Give this song another listen Close your eyes Listen to my voice, it's my disguise I'm by your side Oh, it's what you do to me What you do to me I know times are gettin' hard But just believe me, girl Someday I'll pay the bills with this guitar We'll have it good We'll have the life we knew we would My word is good I've got so much left to say If every simple song I wrote to you Would take your breath away I'd write it all Even more in love with me you'd fall We'd have it all A thousand miles seems pretty far But they've got planes and trains and cars I'd walk to you if I had no other way Our friends would all make fun of us And we'll just laugh along because we know That none of them have felt this way Delilah, I can promise you That by the time we get through The world will never ever be the same And you're to blame You be good, and don't you miss me Two more years and you'll be done with school And I'll be makin' history like I do You'll know it's all because of you We can do whatever we want to Hey there, Delilah, here's to you This ones for you Oh, whoa, whoa Oh whoa, oh Oh, oh \n"
     ]
    }
   ],
   "source": [
    "s=\"\"\n",
    "f = []\n",
    "for line in song.readlines():\n",
    "    if line not in f:\n",
    "        s+=line.strip()+' '\n",
    "    f.append(line)\n",
    "print(s)"
   ]
  },
  {
   "cell_type": "code",
   "execution_count": 126,
   "metadata": {},
   "outputs": [],
   "source": [
    "doc = \"\"\"\n",
    "\n",
    "Hey there, Delilah What's it like in New York city? I'm a thousand miles away But, girl, tonight you look so pretty Yes, \n",
    "you do Time square can't shine as bright as you I swear, it's true Don't you worry about the distance I'm right there if \n",
    "you get lonely Give this song another listen Close your eyes Listen to my voice, it's my disguise I'm by your side Oh, it's\n",
    "what you do to me What you do to me I know times are gettin' hard But just believe me, girl Someday I'll pay the bills with \n",
    "this guitar We'll have it good We'll have the life we knew we would My word is good I've got so much left to say If every \n",
    "simple song I wrote to you Would take your breath away I'd write it all Even more in love with me you'd fall We'd have it\n",
    "all A thousand miles seems pretty far But they've got planes and trains and cars I'd walk to you if I had no other way Our\n",
    "friends would all make fun of us And we'll just laugh along because we know That none of them have felt this way Delilah,\n",
    "I can promise you That by the time we get through The world will never ever be the same And you're to blame You be good,\n",
    "and don't you miss me Two more years and you'll be done with school And I'll be makin' history like I do You'll know it's\n",
    "all because of you We can do whatever we want to Hey there, Delilah, here's to you This ones for you Oh, whoa, whoa Oh whoa\n",
    ", oh Oh, oh \n",
    "\"\"\""
   ]
  },
  {
   "cell_type": "code",
   "execution_count": 127,
   "metadata": {},
   "outputs": [],
   "source": [
    "from sklearn.feature_extraction.text import CountVectorizer"
   ]
  },
  {
   "cell_type": "code",
   "execution_count": 139,
   "metadata": {},
   "outputs": [
    {
     "name": "stdout",
     "output_type": "stream",
     "text": [
      "['away' 'believe' 'bills' 'blame' 'breath' 'bright' 'cars' 'city' 'close'\n",
      " 'delilah' 'disguise' 'distance' 'don' 'eyes' 'fall' 'far' 'felt'\n",
      " 'friends' 'fun' 'gettin' 'girl' 'good' 'got' 'guitar' 'hard' 'hey'\n",
      " 'history' 'just' 'knew' 'know' 'laugh' 'left' 'life' 'like' 'listen' 'll'\n",
      " 'lonely' 'look' 'love' 'make' 'makin' 'miles' 'miss' 'new' 'oh' 'ones'\n",
      " 'pay' 'planes' 'pretty' 'promise' 'right' 'say' 'school' 'shine' 'simple'\n",
      " 'someday' 'song' 'square' 'swear' 'thousand' 'time' 'times' 'tonight'\n",
      " 'trains' 'true' 've' 'voice' 'walk' 'want' 'way' 'whoa' 'word' 'world'\n",
      " 'worry' 'write' 'wrote' 'years' 'yes' 'york']\n"
     ]
    }
   ],
   "source": [
    "# Determine number of words in phrase, we want 1 word\n",
    "n_gram_range = (1, 1)\n",
    "count = CountVectorizer(ngram_range = n_gram_range, stop_words = 'english')\n",
    "count.fit([doc])\n",
    "candidates = count.get_feature_names_out()\n",
    "print(candidates)"
   ]
  },
  {
   "cell_type": "code",
   "execution_count": 140,
   "metadata": {},
   "outputs": [],
   "source": [
    "from sentence_transformers import SentenceTransformer"
   ]
  },
  {
   "cell_type": "code",
   "execution_count": 141,
   "metadata": {},
   "outputs": [
    {
     "data": {
      "application/vnd.jupyter.widget-view+json": {
       "model_id": "ecf9c33082c643d7a8eeca378c5152af",
       "version_major": 2,
       "version_minor": 0
      },
      "text/plain": [
       "Downloading:   0%|          | 0.00/690 [00:00<?, ?B/s]"
      ]
     },
     "metadata": {},
     "output_type": "display_data"
    },
    {
     "data": {
      "application/vnd.jupyter.widget-view+json": {
       "model_id": "56e56a34f1b54cbb8ab0bbf5134ea109",
       "version_major": 2,
       "version_minor": 0
      },
      "text/plain": [
       "Downloading:   0%|          | 0.00/190 [00:00<?, ?B/s]"
      ]
     },
     "metadata": {},
     "output_type": "display_data"
    },
    {
     "data": {
      "application/vnd.jupyter.widget-view+json": {
       "model_id": "b22b78cd6f744e8a8a2f987fcb27ec6b",
       "version_major": 2,
       "version_minor": 0
      },
      "text/plain": [
       "Downloading:   0%|          | 0.00/3.99k [00:00<?, ?B/s]"
      ]
     },
     "metadata": {},
     "output_type": "display_data"
    },
    {
     "data": {
      "application/vnd.jupyter.widget-view+json": {
       "model_id": "54cb583ce9bf4bd4b64f0cafe0329a3f",
       "version_major": 2,
       "version_minor": 0
      },
      "text/plain": [
       "Downloading:   0%|          | 0.00/550 [00:00<?, ?B/s]"
      ]
     },
     "metadata": {},
     "output_type": "display_data"
    },
    {
     "data": {
      "application/vnd.jupyter.widget-view+json": {
       "model_id": "131ad610903d46fdaceffedaf80002cd",
       "version_major": 2,
       "version_minor": 0
      },
      "text/plain": [
       "Downloading:   0%|          | 0.00/122 [00:00<?, ?B/s]"
      ]
     },
     "metadata": {},
     "output_type": "display_data"
    },
    {
     "data": {
      "application/vnd.jupyter.widget-view+json": {
       "model_id": "75348c60219f4251ad6d31d580af19f3",
       "version_major": 2,
       "version_minor": 0
      },
      "text/plain": [
       "Downloading:   0%|          | 0.00/265M [00:00<?, ?B/s]"
      ]
     },
     "metadata": {},
     "output_type": "display_data"
    },
    {
     "data": {
      "application/vnd.jupyter.widget-view+json": {
       "model_id": "0732c84c5db14719904282e99c3c2deb",
       "version_major": 2,
       "version_minor": 0
      },
      "text/plain": [
       "Downloading:   0%|          | 0.00/53.0 [00:00<?, ?B/s]"
      ]
     },
     "metadata": {},
     "output_type": "display_data"
    },
    {
     "data": {
      "application/vnd.jupyter.widget-view+json": {
       "model_id": "2e38119c4eb540e28a831f4cc8feb22b",
       "version_major": 2,
       "version_minor": 0
      },
      "text/plain": [
       "Downloading:   0%|          | 0.00/112 [00:00<?, ?B/s]"
      ]
     },
     "metadata": {},
     "output_type": "display_data"
    },
    {
     "data": {
      "application/vnd.jupyter.widget-view+json": {
       "model_id": "e6f042f8b4354fa7a6d8950af6146f97",
       "version_major": 2,
       "version_minor": 0
      },
      "text/plain": [
       "Downloading:   0%|          | 0.00/466k [00:00<?, ?B/s]"
      ]
     },
     "metadata": {},
     "output_type": "display_data"
    },
    {
     "data": {
      "application/vnd.jupyter.widget-view+json": {
       "model_id": "a9d510cc1a374f56beafffba0d66e3cb",
       "version_major": 2,
       "version_minor": 0
      },
      "text/plain": [
       "Downloading:   0%|          | 0.00/450 [00:00<?, ?B/s]"
      ]
     },
     "metadata": {},
     "output_type": "display_data"
    },
    {
     "data": {
      "application/vnd.jupyter.widget-view+json": {
       "model_id": "d232c12ad63a46ecb96235df0128275d",
       "version_major": 2,
       "version_minor": 0
      },
      "text/plain": [
       "Downloading:   0%|          | 0.00/232k [00:00<?, ?B/s]"
      ]
     },
     "metadata": {},
     "output_type": "display_data"
    },
    {
     "data": {
      "application/vnd.jupyter.widget-view+json": {
       "model_id": "abb93097fc624cb094194cbd08b1364b",
       "version_major": 2,
       "version_minor": 0
      },
      "text/plain": [
       "Downloading:   0%|          | 0.00/229 [00:00<?, ?B/s]"
      ]
     },
     "metadata": {},
     "output_type": "display_data"
    }
   ],
   "source": [
    "model = SentenceTransformer('distilbert-base-nli-mean-tokens')\n",
    "doc_embedding = model.encode([doc])\n",
    "candidate_embeddings = model.encode(candidates)"
   ]
  },
  {
   "cell_type": "code",
   "execution_count": 142,
   "metadata": {},
   "outputs": [],
   "source": [
    "from sklearn.metrics.pairwise import cosine_similarity"
   ]
  },
  {
   "cell_type": "code",
   "execution_count": 150,
   "metadata": {},
   "outputs": [],
   "source": [
    "# How many keywords do we want?\n",
    "top_n = 5\n",
    "distances = cosine_similarity(doc_embedding, candidate_embeddings)\n",
    "R"
   ]
  },
  {
   "cell_type": "code",
   "execution_count": 151,
   "metadata": {},
   "outputs": [
    {
     "data": {
      "text/plain": [
       "['hard', 'thousand', 'delilah', 'lonely', 'tonight']"
      ]
     },
     "execution_count": 151,
     "metadata": {},
     "output_type": "execute_result"
    }
   ],
   "source": [
    "keywords"
   ]
  },
  {
   "cell_type": "code",
   "execution_count": null,
   "metadata": {},
   "outputs": [],
   "source": []
  }
 ],
 "metadata": {
  "kernelspec": {
   "display_name": "Python 3",
   "language": "python",
   "name": "python3"
  },
  "language_info": {
   "codemirror_mode": {
    "name": "ipython",
    "version": 3
   },
   "file_extension": ".py",
   "mimetype": "text/x-python",
   "name": "python",
   "nbconvert_exporter": "python",
   "pygments_lexer": "ipython3",
   "version": "3.8.2"
  }
 },
 "nbformat": 4,
 "nbformat_minor": 4
}
