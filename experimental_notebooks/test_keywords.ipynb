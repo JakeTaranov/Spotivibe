{
 "cells": [
  {
   "cell_type": "code",
   "execution_count": 1,
   "metadata": {},
   "outputs": [],
   "source": [
    "import numpy as np\n",
    "import pandas as pd"
   ]
  },
  {
   "cell_type": "code",
   "execution_count": 1,
   "metadata": {},
   "outputs": [],
   "source": [
    "song = open('../data/cactus.txt')"
   ]
  },
  {
   "cell_type": "code",
   "execution_count": 2,
   "metadata": {},
   "outputs": [
    {
     "name": "stdout",
     "output_type": "stream",
     "text": [
      "How I'm â€™posed to sleep when you stroking on my cactus It wouldn't hurt if you jack it Looking in the mirror, baby you know you a Jasmine Hit your streets like Aladdin Let me plant a seed, bet your pussy looking floral Get so deep I hit the coral I can rock the ark after dark when it's pouring We donâ€™t cease till the morning  Give a dog a bone When your kitty talk, tell me more (ahh) Can't hit record on my phone Medusa don't turn me into stone (mmm) [Hook] How I'm 'posed to sleep when you stroking on my cactus It won't hurt if you jack it I like how you brown skin, you the full package And your ass like an atlas Let a real nigga take you back to the palace Am I fucking for the free Diamonds ain't cheap You ain't far from this tree Iâ€™m tryna play like 2, 3 (ooie) I might need a threepeat She gotta have it, Spike Lee And it ainâ€™t likely (oh no) That your nigga like me (no) Why he tryna fight me Check your bitch, Nike Don't get fresh, SAFii Only us like we How Iâ€™m 'posed to sleep when you stroking on my cactus Yeah, let a real nigga take you back to the palace \n"
     ]
    }
   ],
   "source": [
    "s=\"\"\n",
    "f = []\n",
    "for line in song.readlines():\n",
    "    if line not in f:\n",
    "        s+=line.strip()+' '\n",
    "    f.append(line)\n",
    "print(s)"
   ]
  },
  {
   "cell_type": "code",
   "execution_count": 4,
   "metadata": {},
   "outputs": [],
   "source": [
    "doc = \"\"\"\n",
    "\n",
    "How I'm â€™posed to sleep when you stroking on my cactus It wouldn't hurt if you jack it Looking in the mirror, baby you know you a Jasmine \n",
    "Hit your streets like Aladdin Let me plant a seed, bet your pussy \n",
    "looking floral Get so deep I hit the coral I can rock the ark after \n",
    "dark when it's pouring We donâ€™t cease till the morning  Give a dog a \n",
    "bone When your kitty talk, tell me more (ahh) Can't hit record on my \n",
    "phone Medusa don't turn me into stone (mmm) [Hook] How I'm 'posed to \n",
    "sleep when you stroking on my cactus It won't hurt if you jack it I like \n",
    "how you brown skin, you the full package And your ass like an atlas Let a \n",
    "real nigga take you back to the palace Am I fucking for the free Diamonds \n",
    "ain't cheap You ain't far from this tree Iâ€™m tryna play like 2, 3 (ooie) \n",
    "I might need a threepeat She gotta have it, Spike Lee And it ainâ€™t likely \n",
    "(oh no) That your nigga like me (no) Why he tryna fight me Check your bitch,\n",
    "Nike Don't get fresh, SAFii Only us like we How Iâ€™m 'posed to sleep when you \n",
    "stroking on my cactus Yeah, let a real nigga take you back to the palace\n",
    "\"\"\""
   ]
  },
  {
   "cell_type": "code",
   "execution_count": 5,
   "metadata": {},
   "outputs": [],
   "source": [
    "from sklearn.feature_extraction.text import CountVectorizer"
   ]
  },
  {
   "cell_type": "code",
   "execution_count": 6,
   "metadata": {},
   "outputs": [
    {
     "name": "stdout",
     "output_type": "stream",
     "text": [
      "['ahh' 'ain' 'ainâ' 'aladdin' 'ark' 'ass' 'atlas' 'baby' 'bet' 'bitch'\n",
      " 'bone' 'brown' 'cactus' 'cease' 'cheap' 'check' 'coral' 'dark' 'deep'\n",
      " 'diamonds' 'dog' 'don' 'donâ' 'far' 'fight' 'floral' 'free' 'fresh'\n",
      " 'fucking' 'gotta' 'hit' 'hook' 'hurt' 'iâ' 'jack' 'jasmine' 'kitty'\n",
      " 'know' 'lee' 'let' 'like' 'likely' 'looking' 'medusa' 'mirror' 'mmm'\n",
      " 'morning' 'need' 'nigga' 'nike' 'oh' 'ooie' 'package' 'palace' 'phone'\n",
      " 'plant' 'play' 'posed' 'pouring' 'pussy' 'real' 'record' 'rock' 'safii'\n",
      " 'seed' 'skin' 'sleep' 'spike' 'stone' 'streets' 'stroking' 'talk' 'tell'\n",
      " 'threepeat' 'till' 'tree' 'tryna' 'turn' 'won' 'wouldn' 'yeah']\n"
     ]
    }
   ],
   "source": [
    "# Determine number of words in phrase, we want 1 word\n",
    "n_gram_range = (1, 1)\n",
    "count = CountVectorizer(ngram_range = n_gram_range, stop_words = 'english')\n",
    "count.fit([doc])\n",
    "candidates = count.get_feature_names_out()\n",
    "print(candidates)"
   ]
  },
  {
   "cell_type": "code",
   "execution_count": 7,
   "metadata": {},
   "outputs": [],
   "source": [
    "from sentence_transformers import SentenceTransformer"
   ]
  },
  {
   "cell_type": "code",
   "execution_count": 8,
   "metadata": {},
   "outputs": [],
   "source": [
    "model = SentenceTransformer('distilbert-base-nli-mean-tokens')\n",
    "doc_embedding = model.encode([doc])\n",
    "candidate_embeddings = model.encode(candidates)"
   ]
  },
  {
   "cell_type": "code",
   "execution_count": 9,
   "metadata": {},
   "outputs": [],
   "source": [
    "from sklearn.metrics.pairwise import cosine_similarity"
   ]
  },
  {
   "cell_type": "code",
   "execution_count": 10,
   "metadata": {},
   "outputs": [],
   "source": [
    "# How many keywords do we want?\n",
    "top_n = 5\n",
    "distances = cosine_similarity(doc_embedding, candidate_embeddings)\n",
    "keywords = [candidates[index] for index in distances.argsort()[0][-top_n:]]\n"
   ]
  },
  {
   "cell_type": "code",
   "execution_count": 11,
   "metadata": {},
   "outputs": [
    {
     "data": {
      "text/plain": [
       "['diamonds', 'coral', 'sleep', 'jasmine', 'cactus']"
      ]
     },
     "execution_count": 11,
     "metadata": {},
     "output_type": "execute_result"
    }
   ],
   "source": [
    "keywords"
   ]
  },
  {
   "cell_type": "code",
   "execution_count": 12,
   "metadata": {},
   "outputs": [
    {
     "name": "stderr",
     "output_type": "stream",
     "text": [
      "Global seed set to 42\n"
     ]
    }
   ],
   "source": [
    "from keytotext import pipeline"
   ]
  },
  {
   "cell_type": "code",
   "execution_count": 13,
   "metadata": {},
   "outputs": [],
   "source": [
    "nlp = pipeline(\"mrm8488/t5-base-finetuned-common_gen\")"
   ]
  },
  {
   "cell_type": "code",
   "execution_count": 25,
   "metadata": {},
   "outputs": [
    {
     "data": {
      "text/plain": [
       "'cactus with jasmine and diamonds sleeping on a rock'"
      ]
     },
     "execution_count": 25,
     "metadata": {},
     "output_type": "execute_result"
    }
   ],
   "source": [
    "sentence = nlp(keywords)\n",
    "sentence"
   ]
  },
  {
   "cell_type": "code",
   "execution_count": 20,
   "metadata": {},
   "outputs": [],
   "source": [
    "import openai"
   ]
  },
  {
   "cell_type": "code",
   "execution_count": 21,
   "metadata": {},
   "outputs": [],
   "source": [
    "import os\n",
    "from dotenv import load_dotenv, find_dotenv\n",
    "from pathlib import Path"
   ]
  },
  {
   "cell_type": "code",
   "execution_count": 22,
   "metadata": {},
   "outputs": [],
   "source": [
    "load_dotenv()\n",
    "openai.api_key = os.getenv(\"OPENAI_PRIVATE_KEY\")\n",
    "openai.organization = os.getenv(\"OPENAI_ORG_KEY\")"
   ]
  },
  {
   "cell_type": "code",
   "execution_count": 26,
   "metadata": {},
   "outputs": [],
   "source": [
    "response = openai.Image.create(\n",
    "  prompt=sentence,\n",
    "  n=1,\n",
    "  size=\"1024x1024\"\n",
    ")\n",
    "image_url = response['data'][0]['url']"
   ]
  },
  {
   "cell_type": "code",
   "execution_count": 27,
   "metadata": {},
   "outputs": [
    {
     "data": {
      "text/plain": [
       "'https://oaidalleapiprodscus.blob.core.windows.net/private/org-iW442YXmHE1vA9ug8AfYWqQ2/user-CAycS1sGzvOLkEG02jGUHMSG/img-0SzIGVPgtvxqUe9f8SD6H0Lq.png?st=2022-12-16T00%3A45%3A08Z&se=2022-12-16T02%3A45%3A08Z&sp=r&sv=2021-08-06&sr=b&rscd=inline&rsct=image/png&skoid=6aaadede-4fb3-4698-a8f6-684d7786b067&sktid=a48cca56-e6da-484e-a814-9c849652bcb3&skt=2022-12-15T19%3A56%3A08Z&ske=2022-12-16T19%3A56%3A08Z&sks=b&skv=2021-08-06&sig=w8C/3khKuerlYTcZCyeEv4%2BS5S5DJVpSXuAr2WMwcrs%3D'"
      ]
     },
     "execution_count": 27,
     "metadata": {},
     "output_type": "execute_result"
    }
   ],
   "source": [
    "image_url"
   ]
  },
  {
   "cell_type": "code",
   "execution_count": null,
   "metadata": {},
   "outputs": [],
   "source": []
  },
  {
   "cell_type": "code",
   "execution_count": null,
   "metadata": {},
   "outputs": [],
   "source": []
  }
 ],
 "metadata": {
  "kernelspec": {
   "display_name": "Python 3",
   "language": "python",
   "name": "python3"
  },
  "language_info": {
   "codemirror_mode": {
    "name": "ipython",
    "version": 3
   },
   "file_extension": ".py",
   "mimetype": "text/x-python",
   "name": "python",
   "nbconvert_exporter": "python",
   "pygments_lexer": "ipython3",
   "version": "3.8.2"
  },
  "vscode": {
   "interpreter": {
    "hash": "09a00af92c9979d470e45931ed299baf830fc89db3a6c76f5c344bc43f237401"
   }
  }
 },
 "nbformat": 4,
 "nbformat_minor": 4
}
